{
 "cells": [
  {
   "cell_type": "markdown",
   "metadata": {
    "id": "ptq7POOpIJJX"
   },
   "source": [
    "# Proyecto de Grado - Magenta to FWOD\n",
    "In this colab we will explore the classification of the magenta Groove MIdi Dataset (GMD) using the FWOD representation. The idea is that we will:\n",
    "* Extract the MIDI files that are in each folder and subfolder\n",
    "* Parse each file and convert it to hit and velocity list representation (hv_list).\n",
    "* Split the MIDI file into 16 steps (one bar) and flatten it to FWOD representation\n",
    "* create a data frame where we have these rows MIDI file name / bar / flat representation / FWOD representation / class\n",
    "* Using the last two columns of the dataframe (FWOD and class) we can train a model to see if we can guess the class from the FWOD representation.\n",
    "\n",
    "**Notes**\n",
    "Behzad Haki (MTG PhD student) suggests that we also extact the microdeviation descriptor from each bar of the MIDI file. He suggests this information can be useful also to distinguish patterns that have similar patterns as hiphop and rock. We will do this on oure second iteration.\n",
    "\n",
    "Our benchmark is to classify the files better and simpler than these guys: https://arxiv.org/pdf/2407.17536. It will be easy since they just use four classes (funk, jazz, latin and rock)\n"
   ]
  },
  {
   "cell_type": "markdown",
   "metadata": {
    "id": "pqrMvF_K6wFU"
   },
   "source": [
    "# Start everything"
   ]
  },
  {
   "cell_type": "markdown",
   "metadata": {
    "id": "MVC3jStO6-qL"
   },
   "source": [
    "## Install mido library"
   ]
  },
  {
   "cell_type": "markdown",
   "metadata": {
    "id": "_yGphJPc7JDO"
   },
   "source": [
    "## Import all necessary modules and mount drive"
   ]
  },
  {
   "cell_type": "code",
   "execution_count": 1,
   "metadata": {
    "colab": {
     "base_uri": "https://localhost:8080/"
    },
    "executionInfo": {
     "elapsed": 25528,
     "status": "ok",
     "timestamp": 1730904410644,
     "user": {
      "displayName": "Daniel Gómez-Marín",
      "userId": "00320581597885431247"
     },
     "user_tz": 300
    },
    "id": "y5RQAEbg6H5l",
    "outputId": "36ef9d7b-d2e8-4fd8-85a7-939d1bf96369"
   },
   "outputs": [],
   "source": [
    "import os\n",
    "import mido\n",
    "import numpy as np\n",
    "import math\n",
    "from scipy.stats import f_oneway\n",
    "from statsmodels.stats.multicomp import pairwise_tukeyhsd\n",
    "from statsmodels.stats.multicomp import MultiComparison\n",
    "import pandas as pd\n",
    "import matplotlib.pyplot as plt\n",
    "from scipy.stats import pearsonr\n",
    "import pickle"
   ]
  },
  {
   "cell_type": "markdown",
   "metadata": {
    "id": "lblP63oW8o1Q"
   },
   "source": [
    "## Define location of Groove Midi Dataset files\n",
    "Please note that this location should be edited in each personal Colab, as addresses in drive/colab can't be relative."
   ]
  },
  {
   "cell_type": "code",
   "execution_count": 2,
   "metadata": {
    "executionInfo": {
     "elapsed": 239,
     "status": "ok",
     "timestamp": 1730904712592,
     "user": {
      "displayName": "Daniel Gómez-Marín",
      "userId": "00320581597885431247"
     },
     "user_tz": 300
    },
    "id": "R7AZJMQo8w-_"
   },
   "outputs": [],
   "source": [
    "GMD_path = \"magenta midi\""
   ]
  },
  {
   "cell_type": "markdown",
   "metadata": {
    "id": "yxORHuAx71Yb"
   },
   "source": [
    "## MIDI map to note numbers"
   ]
  },
  {
   "cell_type": "code",
   "execution_count": 3,
   "metadata": {
    "executionInfo": {
     "elapsed": 193,
     "status": "ok",
     "timestamp": 1730904430817,
     "user": {
      "displayName": "Daniel Gómez-Marín",
      "userId": "00320581597885431247"
     },
     "user_tz": 300
    },
    "id": "iwHyT7nD75Et"
   },
   "outputs": [],
   "source": [
    "GM_dict = {\n",
    "    # key is midi note number\n",
    "    # values are:\n",
    "    # [0] name (as string)\n",
    "    # [1] name category low mid or high (as string)\n",
    "    # [2] substiture midi number for simplified MIDI (all instruments)\n",
    "    # [3] name of instrument for 8 note conversion (as string)\n",
    "    # [4] number of instrument for 8 note conversion\n",
    "    # [5] substiture midi number for conversion to 8 note\n",
    "    # [6] substiture midi number for conversion to 16 note\n",
    "    # [7] substiture midi number for conversion to 3 note\n",
    "    # if we are going to remap just use GM_dict[msg.note][X]\n",
    "    22: [\"Closed Hi-Hat edge\", \"high\", 42, \"CH\", 3, 42, 42, 42],\n",
    "    26: [\"Open Hi-Hat edge\", \"high\", 46, \"OH\", 4, 46, 46, 42],\n",
    "    35: [\"Acoustic Bass Drum\", \"low\", 36, \"K\", 1, 36, 36, 36],\n",
    "    36: [\"Bass Drum 1\", \"low\", 36, \"K\", 1, 36, 36, 36],\n",
    "    37: [\"Side Stick\", \"mid\", 37, \"RS\", 6, 37, 37, 38],\n",
    "    38: [\"Acoustic Snare\", \"mid\", 38, \"SN\", 2, 38, 38, 38],\n",
    "    39: [\"Hand Clap\", \"mid\", 39, \"CP\", 5, 39, 39, 38],\n",
    "    40: [\"Electric Snare\", \"mid\", 38, \"SN\", 2, 38, 38, 38],\n",
    "    41: [\"Low Floor Tom\", \"low\", 45, \"LT\", 7, 45, 45, 36],\n",
    "    42: [\"Closed Hi Hat\", \"high\", 42, \"CH\", 3, 42, 42, 42],\n",
    "    43: [\"High Floor Tom\", \"mid\", 45, \"HT\", 8, 45, 45, 38],\n",
    "    44: [\"Pedal Hi-Hat\", \"high\", 46, \"OH\", 4, 46, 46, 42],\n",
    "    45: [\"Low Tom\", \"low\", 45, \"LT\", 7, 45, 45, 36],\n",
    "    46: [\"Open Hi-Hat\", \"high\", 46, \"OH\", 4, 46, 46, 42],\n",
    "    47: [\"Low-Mid Tom\", \"low\", 47, \"MT\", 7, 45, 47, 36],\n",
    "    48: [\"Hi-Mid Tom\", \"mid\", 47, \"MT\", 7, 50, 50, 38],\n",
    "    49: [\"Crash Cymbal 1\", \"high\", 49, \"CC\", 4, 46, 42, 42],\n",
    "    50: [\"High Tom\", \"mid\", 50, \"HT\", 8, 50, 50, 38],\n",
    "    51: [\"Ride Cymbal 1\", \"high\", 51, \"RC\", -1, 42, 51, 42],\n",
    "    52: [\"Chinese Cymbal\", \"high\", 52, \"\", -1, 46, 51, 42],\n",
    "    53: [\"Ride Bell\", \"high\", 53, \"\", -1, 42, 51, 42],\n",
    "    54: [\"Tambourine\", \"high\", 54, \"\", -1, 42, 69, 42],\n",
    "    55: [\"Splash Cymbal\", \"high\", 55, \"OH\", 4, 46, 42, 42],\n",
    "    56: [\"Cowbell\", \"high\", 56, \"CB\", -1, 37, 56, 42],\n",
    "    57: [\"Crash Cymbal 2\", \"high\", 57, \"CC\", 4, 46, 42, 42],\n",
    "    58: [\"Vibraslap\", \"mid\", 58, \"VS\", 6, 37, 37, 42],\n",
    "    59: [\"Ride Cymbal 2\", \"high\", 59, \"RC\", 3, 42, 51, 42],\n",
    "    60: [\"Hi Bongo\", \"high\", 60, \"LB\", 8, 45, 63, 42],\n",
    "    61: [\"Low Bongo\", \"mid\", 61, \"HB\", 7, 45, 64, 38],\n",
    "    62: [\"Mute Hi Conga\", \"mid\", 62, \"MC\", 8, 50, 62, 38],\n",
    "    63: [\"Open Hi Conga\", \"high\", 63, \"HC\", 8, 50, 63, 42],\n",
    "    64: [\"Low Conga\", \"low\", 64, \"LC\", 7, 45, 64, 36],\n",
    "    65: [\"High Timbale\", \"mid\", 65, \"\", 8, 45, 63, 38],\n",
    "    66: [\"Low Timbale\", \"low\", 66, \"\", 7, 45, 64, 36],\n",
    "    67: [\"High Agogo\", \"high\", 67, \"\", -1, 37, 56, 42],\n",
    "    68: [\"Low Agogo\", \"mid\", 68, \"\", -1, 37, 56, 38],\n",
    "    69: [\"Cabasa\", \"high\", 69, \"MA\", -1, 42, 69, 42],\n",
    "    70: [\"Maracas\", \"high\", 69, \"MA\", -1, 42, 69, 42],\n",
    "    71: [\"Short Whistle\", \"high\", 71, \"\", -1, 37, 56, 42],\n",
    "    72: [\"Long Whistle\", \"high\", 72, \"\", -1, 37, 56, 42],\n",
    "    73: [\"Short Guiro\", \"high\", 73, \"\", -1, 42, 42, 42],\n",
    "    74: [\"Long Guiro\", \"high\", 74, \"\", -1, 46, 46, 42],\n",
    "    75: [\"Claves\", \"high\", 75, \"\", -1, 37, 75, 42],\n",
    "    76: [\"Hi Wood Block\", \"high\", 76, \"\", 8, 50, 63, 42],\n",
    "    77: [\"Low Wood Block\", \"mid\", 77, \"\", 7, 45, 64, 38],\n",
    "    78: [\"Mute Cuica\", \"high\", 78, \"\", -1, 50, 62, 42],\n",
    "    79: [\"Open Cuica\", \"high\", 79, \"\", -1, 45, 63, 42],\n",
    "    80: [\"Mute Triangle\", \"high\", 80, \"\", -1, 37, 75, 42],\n",
    "    81: [\"Open Triangle\", \"high\", 81, \"\", -1, 37, 75, 42],\n",
    "}"
   ]
  },
  {
   "cell_type": "markdown",
   "metadata": {
    "id": "T8ttov9X7Ors"
   },
   "source": [
    "## MIDI parser to ```hv_list ``` representation\n",
    "\n"
   ]
  },
  {
   "cell_type": "code",
   "execution_count": 4,
   "metadata": {
    "executionInfo": {
     "elapsed": 254,
     "status": "ok",
     "timestamp": 1730904479979,
     "user": {
      "displayName": "Daniel Gómez-Marín",
      "userId": "00320581597885431247"
     },
     "user_tz": 300
    },
    "id": "Yf9dH6XJ6UcV"
   },
   "outputs": [],
   "source": [
    "def midifile2hv_list(file_name, mapping):\n",
    "    '''\n",
    "    pattern name must include .mid\n",
    "    get a MIDI file and convert it to an hv_list (a list of note numbers and velocity)\n",
    "    use the \"mapping\" variable to define the type of instrument mapping\n",
    "    that will be used in the hv_list \"all\", \"16\", \"8\", \"3\"\n",
    "    '''\n",
    "    pattern=[]\n",
    "    mid=mido.MidiFile(file_name) #create a mido file instance\n",
    "    sixteenth= mid.ticks_per_beat/4 #find the length of a sixteenth note\n",
    "    #print (\"sixteenth\", sixteenth)\n",
    "\n",
    "    # time: inside a track, it is delta time in ticks (integrer).\n",
    "    # A delta time is how long to wait before the next message.\n",
    "    acc=0 #use this to keep track of time\n",
    "\n",
    "    # depending on the instruments variable select a notemapping\n",
    "    if mapping==\"allinstruments\":\n",
    "        column=2\n",
    "    elif mapping==\"16instruments\":\n",
    "        column=6\n",
    "    elif mapping==\"8instruments\":\n",
    "        column=5\n",
    "    elif mapping==\"3instruments\":\n",
    "        column=7\n",
    "    else: column = 2 # if no mapping is selected use \"allinstrument\" mapping\n",
    "\n",
    "    for i, track in enumerate(mid.tracks):\n",
    "        for msg in track: #process all messages\n",
    "            acc += msg.time # accumulate time of any message type\n",
    "            if msg.type == \"note_on\" and msg.velocity != 0: # skip velocity 0 format of note off\n",
    "                if msg.note in list(GM_dict.keys()):\n",
    "                  midinote = GM_dict[msg.note][column] #remap msg.note by demand\n",
    "                  rounded_step = int((acc/sixteenth)+0.45)\n",
    "                  midivelocity = msg.velocity/127 # normalize upfront\n",
    "                  pattern.append((int(acc/sixteenth), midinote, midivelocity)) # step, note, velocity\n",
    "\n",
    "        if len(pattern)>0: #just proceed if analyzed pattern has at least one onset\n",
    "\n",
    "            #round the pattern to the next multiple of 16\n",
    "            if (rounded_step/16) - (rounded_step//16) != 0:\n",
    "                pattern_len_in_steps = (rounded_step//16)*16 + 16\n",
    "            else:\n",
    "                pattern_len_in_steps = (rounded_step//16)*16\n",
    "\n",
    "            #create an empty list of lists the size of the pattern\n",
    "            output_pattern=[[]]*pattern_len_in_steps\n",
    "            # group the instruments and their velocity that played at a specific step\n",
    "            i = 0\n",
    "            for step in range(len(output_pattern)):\n",
    "                output_pattern.append([(x[1],x[2]) for x in pattern if x[0]==step])\n",
    "                #make sure no notes are repeated and events are sorted\n",
    "                output_pattern[step] = list(set(output_pattern[step]))\n",
    "                output_pattern[step].sort()\n",
    "\n",
    "    ##################################\n",
    "    # split the pattern every 16 steps\n",
    "    ##################################\n",
    "    hv_lists_split=[]\n",
    "    for x in range(len(output_pattern)//16):\n",
    "        patt_fragment = output_pattern[x*16:(x*16)+16]\n",
    "        patt_density = sum([1 for x in patt_fragment if x!=[]])\n",
    "\n",
    "        #############################################################\n",
    "        # filter out patterns that have less than 4 events with notes\n",
    "        #############################################################\n",
    "        # NOTE: more conditions could be added (i.e. kick on step 0, etc)\n",
    "        #############################################################\n",
    "        if patt_density > 4:\n",
    "            hv_lists_split.append(patt_fragment)\n",
    "\n",
    "  # output is a 16-step pattern\n",
    "    return hv_lists_split\n",
    "\n",
    "def find_unique_hv_lists(hv_lists_split):\n",
    "  # input a list of hv_lists and return the set of unique\n",
    "  unique_hv = list(set([tuple([tuple(step) for step in hv_list]) for hv_list in hv_lists]))\n",
    "  return unique_hv"
   ]
  },
  {
   "cell_type": "markdown",
   "metadata": {
    "id": "QMUVQXEH7avR"
   },
   "source": [
    "## Flatten an `hv_list` to `FWOD` representation"
   ]
  },
  {
   "cell_type": "code",
   "execution_count": 5,
   "metadata": {
    "executionInfo": {
     "elapsed": 239,
     "status": "ok",
     "timestamp": 1730904485747,
     "user": {
      "displayName": "Daniel Gómez-Marín",
      "userId": "00320581597885431247"
     },
     "user_tz": 300
    },
    "id": "fIMEPCSA6PPF"
   },
   "outputs": [],
   "source": [
    "# hv list flattening\n",
    "def flatten_hv_list(hv_list):\n",
    "  # input an hv list and output a flattened representation as a v_list\n",
    "\n",
    "  # list of instruments and categories\n",
    "  lows =  [35, 36, 41, 45, 47, 64, 66]\n",
    "  mids =  [37, 38, 39, 40, 43, 48, 50, 61, 62, 65, 68, 77]\n",
    "  his = [22, 26, 42, 44, 46, 49, 51, 52, 53, 54, 55, 56, 57, 58, 59, 60, 63, 67, 69, 70, 71, 72, 73, 74, 75, 76, 78, 79, 80, 81]\n",
    "\n",
    "  flat = np.zeros([len(hv_list),1])\n",
    "\n",
    "  # multiply velocities and categories\n",
    "  for i,step in enumerate(hv_list):\n",
    "    step_weight = 0\n",
    "    for onset in step:\n",
    "      if onset[0] in lows:\n",
    "        step_weight += onset[1]*3\n",
    "      elif onset[0] in mids:\n",
    "        step_weight += onset[1]*2\n",
    "      else:\n",
    "        step_weight += onset[1]*1\n",
    "    flat[i] = step_weight\n",
    "\n",
    "  flat = flat/max(flat)\n",
    "  return flat"
   ]
  },
  {
   "cell_type": "markdown",
   "metadata": {
    "id": "0OhS4_IS9oqk"
   },
   "source": [
    "# Processing example\n",
    "In this code section we will\n",
    "\n",
    "1.   import a MIDI file\n",
    "2.   parse to hv_lists\n",
    "3.   convert to FWOD representation\n",
    "\n"
   ]
  },
  {
   "cell_type": "code",
   "execution_count": 9,
   "metadata": {
    "colab": {
     "base_uri": "https://localhost:8080/"
    },
    "executionInfo": {
     "elapsed": 234,
     "status": "ok",
     "timestamp": 1730906237799,
     "user": {
      "displayName": "Daniel Gómez-Marín",
      "userId": "00320581597885431247"
     },
     "user_tz": 300
    },
    "id": "cZpIbceA_Xhu",
    "outputId": "0da86e58-fd15-46ea-cfab-47f43b1c8fd6"
   },
   "outputs": [
    {
     "data": {
      "text/plain": [
       "[[],\n",
       " [],\n",
       " [],\n",
       " [(46, 0.6456692913385826)],\n",
       " [],\n",
       " [(53, 0.4645669291338583)],\n",
       " [(53, 0.48031496062992124)],\n",
       " [(38, 1.0)],\n",
       " [],\n",
       " [(53, 1.0)],\n",
       " [(42, 0.13385826771653545)],\n",
       " [(45, 0.3543307086614173)],\n",
       " [(42, 0.5826771653543307)],\n",
       " [(38, 1.0)],\n",
       " [(42, 1.0)],\n",
       " [(36, 0.9212598425196851), (55, 0.7165354330708661)]]"
      ]
     },
     "execution_count": 9,
     "metadata": {},
     "output_type": "execute_result"
    }
   ],
   "source": [
    "GMD_path # the gm dataset is here\n",
    "items_in_directory = os.listdir(GMD_path)\n",
    "folders_in_directory = [item for item in items_in_directory if os.path.isdir(os.path.join(GMD_path, item))] # list the folders whoch are classes\n",
    "# print(\"All folders in the GMD_path folder. These are the classes we will want to classify in:\")\n",
    "# print(folders_in_directory)\n",
    "\n",
    "folder = 'pop'\n",
    "\n",
    "# Example, get all MIDI files in the 'afrobeat' folder\n",
    "MIDI_files_in_afrobeat = os.listdir(GMD_path+f\"/{folder}\")\n",
    "MIDI_files_in_afrobeat = [item for item in MIDI_files_in_afrobeat if os.path.isfile(os.path.join(GMD_path+f\"/{folder}\", item))]\n",
    "MIDI_files_in_afrobeat\n",
    "# print(\"these are the midi files in the 'afrobeat' folder:\")\n",
    "# print(MIDI_files_in_afrobeat)\n",
    "\n",
    "# select one file (i.e. the first one) and parse it to hv_lists\n",
    "midi_file = MIDI_files_in_afrobeat[2] #select teh first file\n",
    "hv_lists = midifile2hv_list(GMD_path+f\"/{folder}/\"+midi_file, \"all_instruments\")\n",
    "hv_lists[3]\n",
    "\n",
    "# fwod_representations = [flatten_hv_list(hv_list) for hv_list in hv_lists]\n",
    "# fwod_representations"
   ]
  },
  {
   "cell_type": "code",
   "execution_count": 7,
   "metadata": {},
   "outputs": [
    {
     "ename": "NameError",
     "evalue": "name 'fwod_representations' is not defined",
     "output_type": "error",
     "traceback": [
      "\u001b[0;31m---------------------------------------------------------------------------\u001b[0m",
      "\u001b[0;31mNameError\u001b[0m                                 Traceback (most recent call last)",
      "Cell \u001b[0;32mIn[7], line 3\u001b[0m\n\u001b[1;32m      1\u001b[0m \u001b[38;5;66;03m# Plot multiple FWOD representations (first 5 patterns as example)\u001b[39;00m\n\u001b[1;32m      2\u001b[0m plt\u001b[38;5;241m.\u001b[39mfigure(figsize\u001b[38;5;241m=\u001b[39m(\u001b[38;5;241m12\u001b[39m, \u001b[38;5;241m8\u001b[39m))\n\u001b[0;32m----> 3\u001b[0m \u001b[38;5;28;01mfor\u001b[39;00m i, fwod \u001b[38;5;129;01min\u001b[39;00m \u001b[38;5;28menumerate\u001b[39m(\u001b[43mfwod_representations\u001b[49m[:\u001b[38;5;241m5\u001b[39m]):\n\u001b[1;32m      4\u001b[0m     plt\u001b[38;5;241m.\u001b[39mplot(\u001b[38;5;28mrange\u001b[39m(\u001b[38;5;241m1\u001b[39m, \u001b[38;5;241m17\u001b[39m), fwod\u001b[38;5;241m.\u001b[39mflatten(), label\u001b[38;5;241m=\u001b[39m\u001b[38;5;124mf\u001b[39m\u001b[38;5;124m'\u001b[39m\u001b[38;5;124mPattern \u001b[39m\u001b[38;5;132;01m{\u001b[39;00mi\u001b[38;5;241m+\u001b[39m\u001b[38;5;241m1\u001b[39m\u001b[38;5;132;01m}\u001b[39;00m\u001b[38;5;124m'\u001b[39m)\n\u001b[1;32m      5\u001b[0m plt\u001b[38;5;241m.\u001b[39mtitle(\u001b[38;5;124m'\u001b[39m\u001b[38;5;124mFWOD Representations Across Patterns\u001b[39m\u001b[38;5;124m'\u001b[39m, fontsize\u001b[38;5;241m=\u001b[39m\u001b[38;5;241m16\u001b[39m)\n",
      "\u001b[0;31mNameError\u001b[0m: name 'fwod_representations' is not defined"
     ]
    },
    {
     "data": {
      "text/plain": [
       "<Figure size 1200x800 with 0 Axes>"
      ]
     },
     "metadata": {},
     "output_type": "display_data"
    }
   ],
   "source": [
    "# Plot multiple FWOD representations (first 5 patterns as example)\n",
    "plt.figure(figsize=(12, 8))\n",
    "for i, fwod in enumerate(fwod_representations[:5]):\n",
    "    plt.plot(range(1, 17), fwod.flatten(), label=f'Pattern {i+1}')\n",
    "plt.title('FWOD Representations Across Patterns', fontsize=16)\n",
    "plt.xlabel('Step (1-16)', fontsize=14)\n",
    "plt.ylabel('FWOD Intensity (Normalized)', fontsize=14)\n",
    "plt.xticks(range(1, 17))\n",
    "plt.legend()\n",
    "plt.grid(axis='both', linestyle='--', alpha=0.6)\n",
    "plt.show()\n"
   ]
  }
 ],
 "metadata": {
  "colab": {
   "provenance": []
  },
  "kernelspec": {
   "display_name": "test_env",
   "language": "python",
   "name": "python3"
  },
  "language_info": {
   "codemirror_mode": {
    "name": "ipython",
    "version": 3
   },
   "file_extension": ".py",
   "mimetype": "text/x-python",
   "name": "python",
   "nbconvert_exporter": "python",
   "pygments_lexer": "ipython3",
   "version": "3.10.13"
  }
 },
 "nbformat": 4,
 "nbformat_minor": 0
}
